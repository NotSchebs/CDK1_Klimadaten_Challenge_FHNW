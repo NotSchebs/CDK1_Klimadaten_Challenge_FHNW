{
 "cells": [
  {
   "cell_type": "code",
   "id": "initial_id",
   "metadata": {
    "collapsed": true,
    "ExecuteTime": {
     "end_time": "2025-04-10T09:24:46.138133Z",
     "start_time": "2025-04-10T09:24:46.128547Z"
    }
   },
   "source": [
    "import pandas as pd\n",
    "import os\n",
    "import matplotlib.pyplot as plt"
   ],
   "outputs": [],
   "execution_count": 7
  },
  {
   "metadata": {
    "ExecuteTime": {
     "end_time": "2025-04-10T09:43:46.103095Z",
     "start_time": "2025-04-10T09:43:46.094381Z"
    }
   },
   "cell_type": "code",
   "source": [
    "print(\"Aktuelles Verzeichnis:\", os.getcwd())\n",
    "datei_pfad_Temp = \"Bagdasarianz_daten/tas_yearly_RCP2.6_CH_transient.csv\"\n",
    "print(os.path.exists(datei_pfad_Temp))\n",
    "datei_pfad_Voegel = \"Voegeldaten/zugvögel.csv\"\n",
    "print(os.path.exists(datei_pfad_Voegel))\n",
    "\n"
   ],
   "id": "8efe10ab254be786",
   "outputs": [
    {
     "name": "stdout",
     "output_type": "stream",
     "text": [
      "Aktuelles Verzeichnis: C:\\Users\\aleja\\FHNW\\2Sem\\CDK1\\CDK1_Klimadaten_Challenge_FHNW\n",
      "True\n",
      "True\n"
     ]
    }
   ],
   "execution_count": 14
  },
  {
   "metadata": {
    "ExecuteTime": {
     "end_time": "2025-04-10T09:43:48.790004Z",
     "start_time": "2025-04-10T09:43:48.755026Z"
    }
   },
   "cell_type": "code",
   "source": [
    "data_temp = pd.read_csv(datei_pfad_Temp)\n",
    "data_temp.head()"
   ],
   "id": "331958b6aefad838",
   "outputs": [
    {
     "data": {
      "text/plain": [
       "                                               tas      1981      1982  \\\n",
       "0         EUR-11_DMI-HIRHAM5_ICHEC-EC-EARTH_r3i1p1  4.261398  5.949986   \n",
       "1      EUR-44_KNMI-RACMO22E_MOHC-HadGEM2-ES_r1i1p1  4.816937  5.839683   \n",
       "2  EUR-11_MPI-CSC-REMO2009_MPI-M-MPI-ESM-LR_r2i1p1  5.784048  5.396191   \n",
       "3          EUR-11_SMHI-RCA4_ICHEC-EC-EARTH_r12i1p1  5.006466  5.292200   \n",
       "4          EUR-44_SMHI-RCA4_MOHC-HadGEM2-ES_r1i1p1  4.170957  5.660131   \n",
       "\n",
       "       1983      1984      1985      1986      1987      1988      1989  ...  \\\n",
       "0  5.353505  4.178893  5.180275  4.821428  5.271947  5.702973  6.544580  ...   \n",
       "1  4.553040  4.919456  5.368288  5.917329  5.035802  5.364179  5.818758  ...   \n",
       "2  4.872943  6.015056  5.278483  4.081241  5.556449  5.595390  5.283402  ...   \n",
       "3  4.626370  4.908261  6.094484  5.223255  4.777223  4.436303  5.171082  ...   \n",
       "4  4.902735  4.864161  5.587037  5.123185  5.097368  5.675083  4.729190  ...   \n",
       "\n",
       "       2090      2091      2092      2093      2094      2095      2096  \\\n",
       "0  5.574879  7.079006  6.262468  5.818835  6.694671  5.979617  6.383185   \n",
       "1  7.936913  5.730242  7.524796  7.042962  6.394351  6.890583  6.680558   \n",
       "2  6.655007  6.610099  6.956537  6.885620  5.682116  6.336233  5.684110   \n",
       "3  5.837995  6.004139  6.802028  6.914165  7.366786  6.568554  7.193991   \n",
       "4  7.231718  6.524816  7.621234  7.308048  6.578599  6.933883  7.390264   \n",
       "\n",
       "       2097      2098      2099  \n",
       "0  7.042538  6.943534  6.324651  \n",
       "1  5.620293  6.982734  7.664764  \n",
       "2  6.805847  6.557417  6.611201  \n",
       "3  6.418227  6.945765  6.264725  \n",
       "4  6.124309  7.182206  6.363232  \n",
       "\n",
       "[5 rows x 120 columns]"
      ],
      "text/html": [
       "<div>\n",
       "<style scoped>\n",
       "    .dataframe tbody tr th:only-of-type {\n",
       "        vertical-align: middle;\n",
       "    }\n",
       "\n",
       "    .dataframe tbody tr th {\n",
       "        vertical-align: top;\n",
       "    }\n",
       "\n",
       "    .dataframe thead th {\n",
       "        text-align: right;\n",
       "    }\n",
       "</style>\n",
       "<table border=\"1\" class=\"dataframe\">\n",
       "  <thead>\n",
       "    <tr style=\"text-align: right;\">\n",
       "      <th></th>\n",
       "      <th>tas</th>\n",
       "      <th>1981</th>\n",
       "      <th>1982</th>\n",
       "      <th>1983</th>\n",
       "      <th>1984</th>\n",
       "      <th>1985</th>\n",
       "      <th>1986</th>\n",
       "      <th>1987</th>\n",
       "      <th>1988</th>\n",
       "      <th>1989</th>\n",
       "      <th>...</th>\n",
       "      <th>2090</th>\n",
       "      <th>2091</th>\n",
       "      <th>2092</th>\n",
       "      <th>2093</th>\n",
       "      <th>2094</th>\n",
       "      <th>2095</th>\n",
       "      <th>2096</th>\n",
       "      <th>2097</th>\n",
       "      <th>2098</th>\n",
       "      <th>2099</th>\n",
       "    </tr>\n",
       "  </thead>\n",
       "  <tbody>\n",
       "    <tr>\n",
       "      <th>0</th>\n",
       "      <td>EUR-11_DMI-HIRHAM5_ICHEC-EC-EARTH_r3i1p1</td>\n",
       "      <td>4.261398</td>\n",
       "      <td>5.949986</td>\n",
       "      <td>5.353505</td>\n",
       "      <td>4.178893</td>\n",
       "      <td>5.180275</td>\n",
       "      <td>4.821428</td>\n",
       "      <td>5.271947</td>\n",
       "      <td>5.702973</td>\n",
       "      <td>6.544580</td>\n",
       "      <td>...</td>\n",
       "      <td>5.574879</td>\n",
       "      <td>7.079006</td>\n",
       "      <td>6.262468</td>\n",
       "      <td>5.818835</td>\n",
       "      <td>6.694671</td>\n",
       "      <td>5.979617</td>\n",
       "      <td>6.383185</td>\n",
       "      <td>7.042538</td>\n",
       "      <td>6.943534</td>\n",
       "      <td>6.324651</td>\n",
       "    </tr>\n",
       "    <tr>\n",
       "      <th>1</th>\n",
       "      <td>EUR-44_KNMI-RACMO22E_MOHC-HadGEM2-ES_r1i1p1</td>\n",
       "      <td>4.816937</td>\n",
       "      <td>5.839683</td>\n",
       "      <td>4.553040</td>\n",
       "      <td>4.919456</td>\n",
       "      <td>5.368288</td>\n",
       "      <td>5.917329</td>\n",
       "      <td>5.035802</td>\n",
       "      <td>5.364179</td>\n",
       "      <td>5.818758</td>\n",
       "      <td>...</td>\n",
       "      <td>7.936913</td>\n",
       "      <td>5.730242</td>\n",
       "      <td>7.524796</td>\n",
       "      <td>7.042962</td>\n",
       "      <td>6.394351</td>\n",
       "      <td>6.890583</td>\n",
       "      <td>6.680558</td>\n",
       "      <td>5.620293</td>\n",
       "      <td>6.982734</td>\n",
       "      <td>7.664764</td>\n",
       "    </tr>\n",
       "    <tr>\n",
       "      <th>2</th>\n",
       "      <td>EUR-11_MPI-CSC-REMO2009_MPI-M-MPI-ESM-LR_r2i1p1</td>\n",
       "      <td>5.784048</td>\n",
       "      <td>5.396191</td>\n",
       "      <td>4.872943</td>\n",
       "      <td>6.015056</td>\n",
       "      <td>5.278483</td>\n",
       "      <td>4.081241</td>\n",
       "      <td>5.556449</td>\n",
       "      <td>5.595390</td>\n",
       "      <td>5.283402</td>\n",
       "      <td>...</td>\n",
       "      <td>6.655007</td>\n",
       "      <td>6.610099</td>\n",
       "      <td>6.956537</td>\n",
       "      <td>6.885620</td>\n",
       "      <td>5.682116</td>\n",
       "      <td>6.336233</td>\n",
       "      <td>5.684110</td>\n",
       "      <td>6.805847</td>\n",
       "      <td>6.557417</td>\n",
       "      <td>6.611201</td>\n",
       "    </tr>\n",
       "    <tr>\n",
       "      <th>3</th>\n",
       "      <td>EUR-11_SMHI-RCA4_ICHEC-EC-EARTH_r12i1p1</td>\n",
       "      <td>5.006466</td>\n",
       "      <td>5.292200</td>\n",
       "      <td>4.626370</td>\n",
       "      <td>4.908261</td>\n",
       "      <td>6.094484</td>\n",
       "      <td>5.223255</td>\n",
       "      <td>4.777223</td>\n",
       "      <td>4.436303</td>\n",
       "      <td>5.171082</td>\n",
       "      <td>...</td>\n",
       "      <td>5.837995</td>\n",
       "      <td>6.004139</td>\n",
       "      <td>6.802028</td>\n",
       "      <td>6.914165</td>\n",
       "      <td>7.366786</td>\n",
       "      <td>6.568554</td>\n",
       "      <td>7.193991</td>\n",
       "      <td>6.418227</td>\n",
       "      <td>6.945765</td>\n",
       "      <td>6.264725</td>\n",
       "    </tr>\n",
       "    <tr>\n",
       "      <th>4</th>\n",
       "      <td>EUR-44_SMHI-RCA4_MOHC-HadGEM2-ES_r1i1p1</td>\n",
       "      <td>4.170957</td>\n",
       "      <td>5.660131</td>\n",
       "      <td>4.902735</td>\n",
       "      <td>4.864161</td>\n",
       "      <td>5.587037</td>\n",
       "      <td>5.123185</td>\n",
       "      <td>5.097368</td>\n",
       "      <td>5.675083</td>\n",
       "      <td>4.729190</td>\n",
       "      <td>...</td>\n",
       "      <td>7.231718</td>\n",
       "      <td>6.524816</td>\n",
       "      <td>7.621234</td>\n",
       "      <td>7.308048</td>\n",
       "      <td>6.578599</td>\n",
       "      <td>6.933883</td>\n",
       "      <td>7.390264</td>\n",
       "      <td>6.124309</td>\n",
       "      <td>7.182206</td>\n",
       "      <td>6.363232</td>\n",
       "    </tr>\n",
       "  </tbody>\n",
       "</table>\n",
       "<p>5 rows × 120 columns</p>\n",
       "</div>"
      ]
     },
     "execution_count": 15,
     "metadata": {},
     "output_type": "execute_result"
    }
   ],
   "execution_count": 15
  },
  {
   "metadata": {
    "ExecuteTime": {
     "end_time": "2025-04-10T09:44:07.131688Z",
     "start_time": "2025-04-10T09:44:06.971468Z"
    }
   },
   "cell_type": "code",
   "source": [
    "data_voegel = pd.read_csv(datei_pfad_Voegel)\n",
    "data_voegel.head()"
   ],
   "id": "e57fcfde8176f48e",
   "outputs": [
    {
     "ename": "UnicodeDecodeError",
     "evalue": "'utf-8' codec can't decode byte 0x8a in position 656: invalid start byte",
     "output_type": "error",
     "traceback": [
      "\u001B[1;31m---------------------------------------------------------------------------\u001B[0m",
      "\u001B[1;31mUnicodeDecodeError\u001B[0m                        Traceback (most recent call last)",
      "Cell \u001B[1;32mIn[17], line 1\u001B[0m\n\u001B[1;32m----> 1\u001B[0m data_voegel \u001B[38;5;241m=\u001B[39m pd\u001B[38;5;241m.\u001B[39mread_csv(datei_pfad_Voegel)\n\u001B[0;32m      2\u001B[0m data_voegel\u001B[38;5;241m.\u001B[39mhead()\n",
      "File \u001B[1;32m~\\anaconda3\\Lib\\site-packages\\pandas\\io\\parsers\\readers.py:1026\u001B[0m, in \u001B[0;36mread_csv\u001B[1;34m(filepath_or_buffer, sep, delimiter, header, names, index_col, usecols, dtype, engine, converters, true_values, false_values, skipinitialspace, skiprows, skipfooter, nrows, na_values, keep_default_na, na_filter, verbose, skip_blank_lines, parse_dates, infer_datetime_format, keep_date_col, date_parser, date_format, dayfirst, cache_dates, iterator, chunksize, compression, thousands, decimal, lineterminator, quotechar, quoting, doublequote, escapechar, comment, encoding, encoding_errors, dialect, on_bad_lines, delim_whitespace, low_memory, memory_map, float_precision, storage_options, dtype_backend)\u001B[0m\n\u001B[0;32m   1013\u001B[0m kwds_defaults \u001B[38;5;241m=\u001B[39m _refine_defaults_read(\n\u001B[0;32m   1014\u001B[0m     dialect,\n\u001B[0;32m   1015\u001B[0m     delimiter,\n\u001B[1;32m   (...)\u001B[0m\n\u001B[0;32m   1022\u001B[0m     dtype_backend\u001B[38;5;241m=\u001B[39mdtype_backend,\n\u001B[0;32m   1023\u001B[0m )\n\u001B[0;32m   1024\u001B[0m kwds\u001B[38;5;241m.\u001B[39mupdate(kwds_defaults)\n\u001B[1;32m-> 1026\u001B[0m \u001B[38;5;28;01mreturn\u001B[39;00m _read(filepath_or_buffer, kwds)\n",
      "File \u001B[1;32m~\\anaconda3\\Lib\\site-packages\\pandas\\io\\parsers\\readers.py:620\u001B[0m, in \u001B[0;36m_read\u001B[1;34m(filepath_or_buffer, kwds)\u001B[0m\n\u001B[0;32m    617\u001B[0m _validate_names(kwds\u001B[38;5;241m.\u001B[39mget(\u001B[38;5;124m\"\u001B[39m\u001B[38;5;124mnames\u001B[39m\u001B[38;5;124m\"\u001B[39m, \u001B[38;5;28;01mNone\u001B[39;00m))\n\u001B[0;32m    619\u001B[0m \u001B[38;5;66;03m# Create the parser.\u001B[39;00m\n\u001B[1;32m--> 620\u001B[0m parser \u001B[38;5;241m=\u001B[39m TextFileReader(filepath_or_buffer, \u001B[38;5;241m*\u001B[39m\u001B[38;5;241m*\u001B[39mkwds)\n\u001B[0;32m    622\u001B[0m \u001B[38;5;28;01mif\u001B[39;00m chunksize \u001B[38;5;129;01mor\u001B[39;00m iterator:\n\u001B[0;32m    623\u001B[0m     \u001B[38;5;28;01mreturn\u001B[39;00m parser\n",
      "File \u001B[1;32m~\\anaconda3\\Lib\\site-packages\\pandas\\io\\parsers\\readers.py:1620\u001B[0m, in \u001B[0;36mTextFileReader.__init__\u001B[1;34m(self, f, engine, **kwds)\u001B[0m\n\u001B[0;32m   1617\u001B[0m     \u001B[38;5;28mself\u001B[39m\u001B[38;5;241m.\u001B[39moptions[\u001B[38;5;124m\"\u001B[39m\u001B[38;5;124mhas_index_names\u001B[39m\u001B[38;5;124m\"\u001B[39m] \u001B[38;5;241m=\u001B[39m kwds[\u001B[38;5;124m\"\u001B[39m\u001B[38;5;124mhas_index_names\u001B[39m\u001B[38;5;124m\"\u001B[39m]\n\u001B[0;32m   1619\u001B[0m \u001B[38;5;28mself\u001B[39m\u001B[38;5;241m.\u001B[39mhandles: IOHandles \u001B[38;5;241m|\u001B[39m \u001B[38;5;28;01mNone\u001B[39;00m \u001B[38;5;241m=\u001B[39m \u001B[38;5;28;01mNone\u001B[39;00m\n\u001B[1;32m-> 1620\u001B[0m \u001B[38;5;28mself\u001B[39m\u001B[38;5;241m.\u001B[39m_engine \u001B[38;5;241m=\u001B[39m \u001B[38;5;28mself\u001B[39m\u001B[38;5;241m.\u001B[39m_make_engine(f, \u001B[38;5;28mself\u001B[39m\u001B[38;5;241m.\u001B[39mengine)\n",
      "File \u001B[1;32m~\\anaconda3\\Lib\\site-packages\\pandas\\io\\parsers\\readers.py:1898\u001B[0m, in \u001B[0;36mTextFileReader._make_engine\u001B[1;34m(self, f, engine)\u001B[0m\n\u001B[0;32m   1895\u001B[0m     \u001B[38;5;28;01mraise\u001B[39;00m \u001B[38;5;167;01mValueError\u001B[39;00m(msg)\n\u001B[0;32m   1897\u001B[0m \u001B[38;5;28;01mtry\u001B[39;00m:\n\u001B[1;32m-> 1898\u001B[0m     \u001B[38;5;28;01mreturn\u001B[39;00m mapping[engine](f, \u001B[38;5;241m*\u001B[39m\u001B[38;5;241m*\u001B[39m\u001B[38;5;28mself\u001B[39m\u001B[38;5;241m.\u001B[39moptions)\n\u001B[0;32m   1899\u001B[0m \u001B[38;5;28;01mexcept\u001B[39;00m \u001B[38;5;167;01mException\u001B[39;00m:\n\u001B[0;32m   1900\u001B[0m     \u001B[38;5;28;01mif\u001B[39;00m \u001B[38;5;28mself\u001B[39m\u001B[38;5;241m.\u001B[39mhandles \u001B[38;5;129;01mis\u001B[39;00m \u001B[38;5;129;01mnot\u001B[39;00m \u001B[38;5;28;01mNone\u001B[39;00m:\n",
      "File \u001B[1;32m~\\anaconda3\\Lib\\site-packages\\pandas\\io\\parsers\\c_parser_wrapper.py:93\u001B[0m, in \u001B[0;36mCParserWrapper.__init__\u001B[1;34m(self, src, **kwds)\u001B[0m\n\u001B[0;32m     90\u001B[0m \u001B[38;5;28;01mif\u001B[39;00m kwds[\u001B[38;5;124m\"\u001B[39m\u001B[38;5;124mdtype_backend\u001B[39m\u001B[38;5;124m\"\u001B[39m] \u001B[38;5;241m==\u001B[39m \u001B[38;5;124m\"\u001B[39m\u001B[38;5;124mpyarrow\u001B[39m\u001B[38;5;124m\"\u001B[39m:\n\u001B[0;32m     91\u001B[0m     \u001B[38;5;66;03m# Fail here loudly instead of in cython after reading\u001B[39;00m\n\u001B[0;32m     92\u001B[0m     import_optional_dependency(\u001B[38;5;124m\"\u001B[39m\u001B[38;5;124mpyarrow\u001B[39m\u001B[38;5;124m\"\u001B[39m)\n\u001B[1;32m---> 93\u001B[0m \u001B[38;5;28mself\u001B[39m\u001B[38;5;241m.\u001B[39m_reader \u001B[38;5;241m=\u001B[39m parsers\u001B[38;5;241m.\u001B[39mTextReader(src, \u001B[38;5;241m*\u001B[39m\u001B[38;5;241m*\u001B[39mkwds)\n\u001B[0;32m     95\u001B[0m \u001B[38;5;28mself\u001B[39m\u001B[38;5;241m.\u001B[39munnamed_cols \u001B[38;5;241m=\u001B[39m \u001B[38;5;28mself\u001B[39m\u001B[38;5;241m.\u001B[39m_reader\u001B[38;5;241m.\u001B[39munnamed_cols\n\u001B[0;32m     97\u001B[0m \u001B[38;5;66;03m# error: Cannot determine type of 'names'\u001B[39;00m\n",
      "File \u001B[1;32mparsers.pyx:574\u001B[0m, in \u001B[0;36mpandas._libs.parsers.TextReader.__cinit__\u001B[1;34m()\u001B[0m\n",
      "File \u001B[1;32mparsers.pyx:663\u001B[0m, in \u001B[0;36mpandas._libs.parsers.TextReader._get_header\u001B[1;34m()\u001B[0m\n",
      "File \u001B[1;32mparsers.pyx:874\u001B[0m, in \u001B[0;36mpandas._libs.parsers.TextReader._tokenize_rows\u001B[1;34m()\u001B[0m\n",
      "File \u001B[1;32mparsers.pyx:891\u001B[0m, in \u001B[0;36mpandas._libs.parsers.TextReader._check_tokenize_status\u001B[1;34m()\u001B[0m\n",
      "File \u001B[1;32mparsers.pyx:2053\u001B[0m, in \u001B[0;36mpandas._libs.parsers.raise_parser_error\u001B[1;34m()\u001B[0m\n",
      "File \u001B[1;32m<frozen codecs>:322\u001B[0m, in \u001B[0;36mdecode\u001B[1;34m(self, input, final)\u001B[0m\n",
      "\u001B[1;31mUnicodeDecodeError\u001B[0m: 'utf-8' codec can't decode byte 0x8a in position 656: invalid start byte"
     ]
    }
   ],
   "execution_count": 17
  }
 ],
 "metadata": {
  "kernelspec": {
   "display_name": "Python 3",
   "language": "python",
   "name": "python3"
  },
  "language_info": {
   "codemirror_mode": {
    "name": "ipython",
    "version": 2
   },
   "file_extension": ".py",
   "mimetype": "text/x-python",
   "name": "python",
   "nbconvert_exporter": "python",
   "pygments_lexer": "ipython2",
   "version": "2.7.6"
  }
 },
 "nbformat": 4,
 "nbformat_minor": 5
}
