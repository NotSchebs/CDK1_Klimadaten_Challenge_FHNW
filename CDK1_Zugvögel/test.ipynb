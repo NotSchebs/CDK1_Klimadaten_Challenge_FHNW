{
 "cells": [
  {
   "cell_type": "code",
   "execution_count": null,
   "id": "9a1f8795",
   "metadata": {},
   "outputs": [
    {
     "data": {
      "text/plain": [
       "<bound method NDFrame.head of                 Artname Abflugszeitraum Ankunftszeitraum   \\\n",
       "0    Fluss-regenpfeifer            Juli              Juli   \n",
       "1       Flussluftf�hler            Juli              Juli   \n",
       "2           Mauresogler            Juli              Juli   \n",
       "3      Fluss-sesschw�be            Juli              Juli   \n",
       "4     Wald-wasserl�ufer            Juli              Juli   \n",
       "..                  ...             ...               ...   \n",
       "97          Steinw�lzer           April     August, April   \n",
       "98            Zwergm�we           April             April   \n",
       "99   Bruch-wasserl�ufer           April             April   \n",
       "100     Flussluftf�hler           April       Juli, april   \n",
       "101       Wespenbussard             Mai               Mai   \n",
       "\n",
       "              zieht nach  Brutvogel  Durchzuegler  Wintergast  \\\n",
       "0       Tropsches Afrika       True          True       False   \n",
       "1       Tropsches Afrika       True          True       False   \n",
       "2     Südlich der Sahara       True         False       False   \n",
       "3       Küsten in Afrika       True         False       False   \n",
       "4                 Afrika      False          True       False   \n",
       "..                   ...        ...           ...         ...   \n",
       "97          Skandinavien      False          True       False   \n",
       "98         Nordosteuropa      False          True       False   \n",
       "99   Nord- und Osteuropa      False          True       False   \n",
       "100  Nord- und Osteuropa       True          True       False   \n",
       "101  Nord- und Osteuropa       True          True       False   \n",
       "\n",
       "     Kurzstreckenzieher  Langstreckenzieher  Teilzieher  avg_comf_temp_low  \\\n",
       "0                 False                True       False                 18   \n",
       "1                 False                True       False                 18   \n",
       "2                 False                True       False                 18   \n",
       "3                 False                True       False                 18   \n",
       "4                 False                True       False                 18   \n",
       "..                  ...                 ...         ...                ...   \n",
       "97                False                True       False                 -2   \n",
       "98                 True               False       False                  5   \n",
       "99                False                True       False                  5   \n",
       "100               False                True       False                 -2   \n",
       "101               False                True       False                  5   \n",
       "\n",
       "     avg_comf_temp_high           Season  \n",
       "0                    28           Sommer  \n",
       "1                    28           Sommer  \n",
       "2                    28           Sommer  \n",
       "3                    28           Sommer  \n",
       "4                    28           Sommer  \n",
       "..                  ...              ...  \n",
       "97                   28  Sommer-Fr�hling  \n",
       "98                   15         Fr�hling  \n",
       "99                   15         Fr�hling  \n",
       "100                  28  Sommer-Fr�hling  \n",
       "101                  15         Fr�hling  \n",
       "\n",
       "[102 rows x 13 columns]>"
      ]
     },
     "execution_count": 5,
     "metadata": {},
     "output_type": "execute_result"
    }
   ],
   "source": [
    "import numpy as np\n",
    "import pandas as pd\n",
    "\n",
    "df1 = pd.read_csv('Daten/Voegeldaten/zugvögel.csv')\n",
    "df2 = pd.read_csv('Daten/Voegeldaten/zugvögel_16V2.csv')\n",
    "\n",
    "\n",
    "\n",
    "\n"
   ]
  }
 ],
 "metadata": {
  "kernelspec": {
   "display_name": "venv",
   "language": "python",
   "name": "python3"
  },
  "language_info": {
   "codemirror_mode": {
    "name": "ipython",
    "version": 3
   },
   "file_extension": ".py",
   "mimetype": "text/x-python",
   "name": "python",
   "nbconvert_exporter": "python",
   "pygments_lexer": "ipython3",
   "version": "3.12.10"
  }
 },
 "nbformat": 4,
 "nbformat_minor": 5
}
