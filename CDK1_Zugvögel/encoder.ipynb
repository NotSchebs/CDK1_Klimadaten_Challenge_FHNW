{
 "cells": [
  {
   "cell_type": "code",
   "id": "initial_id",
   "metadata": {
    "collapsed": true,
    "ExecuteTime": {
     "end_time": "2025-05-09T11:46:03.007785Z",
     "start_time": "2025-05-09T11:46:02.394969Z"
    }
   },
   "source": [
    "import pandas as pd\n",
    "\n",
    "df = pd.read_csv(\"Daten/Voegeldaten/zugvögel.csv\", encoding=\"ISO-8859-1\")  # oder 'latin1'\n",
    "print(df.head())\n"
   ],
   "outputs": [
    {
     "name": "stdout",
     "output_type": "stream",
     "text": [
      "              Artname Abflugszeitraum Ankunftszeitraum            zieht nach  \\\n",
      "0  Fluss-regenpfeifer            Juli              Juli     Tropsches Afrika   \n",
      "1     Flussluftfhler            Juli              Juli     Tropsches Afrika   \n",
      "2         Mauresogler            Juli              Juli  SÃ¼dlich der Sahara   \n",
      "3    Fluss-sesschwbe            Juli              Juli    KÃ¼sten in Afrika   \n",
      "4   Wald-wasserlufer            Juli              Juli               Afrika   \n",
      "\n",
      "   Brutvogel  DurchzÃ¼gler  Wintergast  Kurzstreckenzieher  \\\n",
      "0       True          True       False               False   \n",
      "1       True          True       False               False   \n",
      "2       True         False       False               False   \n",
      "3       True         False       False               False   \n",
      "4      False          True       False               False   \n",
      "\n",
      "   Langstreckenzieher  Teilzieher  avg_comf_temp_low  avg_comf_temp_high  \\\n",
      "0                True       False                 18                  28   \n",
      "1                True       False                 18                  28   \n",
      "2                True       False                 18                  28   \n",
      "3                True       False                 18                  28   \n",
      "4                True       False                 18                  28   \n",
      "\n",
      "   Season  \n",
      "0  Sommer  \n",
      "1  Sommer  \n",
      "2  Sommer  \n",
      "3  Sommer  \n",
      "4  Sommer  \n"
     ]
    }
   ],
   "execution_count": 1
  }
 ],
 "metadata": {
  "kernelspec": {
   "display_name": "Python 3",
   "language": "python",
   "name": "python3"
  },
  "language_info": {
   "codemirror_mode": {
    "name": "ipython",
    "version": 2
   },
   "file_extension": ".py",
   "mimetype": "text/x-python",
   "name": "python",
   "nbconvert_exporter": "python",
   "pygments_lexer": "ipython2",
   "version": "2.7.6"
  }
 },
 "nbformat": 4,
 "nbformat_minor": 5
}
